{
 "cells": [
  {
   "cell_type": "code",
   "execution_count": 3,
   "metadata": {},
   "outputs": [
    {
     "data": {
      "text/plain": [
       "(607, 9)"
      ]
     },
     "execution_count": 3,
     "metadata": {},
     "output_type": "execute_result"
    }
   ],
   "source": [
    "import numpy as np\n",
    "import pandas as pd\n",
    "\n",
    "Data = pd.read_csv('CS598PS_Project_master/friends/labels',sep='\\t',header=None)\n",
    "data = Data.iloc[0:135]\n",
    "#labels1 = np.array(labels.iloc[1::2,0])\n",
    "#labels1 = np.hstack([labels.iloc[0,0],labels1])\n",
    "#print(labels1.shape)\n",
    "#labels2 = pd.get_dummies(labels.iloc[::2,1])\n",
    "#labels2 = np.array(labels2)\n",
    "#print(labels1.shape)\n",
    "#labels = np.zeros((135,9))\n",
    "#labels[:,0] = labels1\n",
    "#labels[:,1:9] = labels2\n",
    "labels = pd.DataFrame(np.zeros((607,1)))\n",
    "for i in range(135):\n",
    "    first = int(data.iloc[i,2])\n",
    "    second = int(data.iloc[i,3])\n",
    "    labels.iloc[first:second,0]=data.iloc[i,1]\n",
    "for i in range(607):\n",
    "    if labels.iloc[i,0] == 'R':\n",
    "        labels.iloc[i,0] = 1\n",
    "    if labels.iloc[i,0] == 'C':\n",
    "        labels.iloc[i,0] = 2\n",
    "    if labels.iloc[i,0] == 'M':\n",
    "        labels.iloc[i,0] = 3\n",
    "    if labels.iloc[i,0] == 'J':\n",
    "        labels.iloc[i,0] = 4\n",
    "    if labels.iloc[i,0] == 'S':\n",
    "        labels.iloc[i,0] = 5\n",
    "    if labels.iloc[i,0] == 'P':\n",
    "        labels.iloc[i,0] = 6\n",
    "    if labels.iloc[i,0] == 'X':\n",
    "        labels.iloc[i,0] = 7\n",
    "    if labels.iloc[i,0] == 'Z':\n",
    "        labels.iloc[i,0] = 8\n",
    "Labels = pd.get_dummies(labels)\n",
    "Labels.shape"
   ]
  },
  {
   "cell_type": "code",
   "execution_count": 4,
   "metadata": {},
   "outputs": [
    {
     "name": "stdout",
     "output_type": "stream",
     "text": [
      "(71989248,) 48000\n"
     ]
    },
    {
     "data": {
      "text/plain": [
       "<Figure size 640x480 with 1 Axes>"
      ]
     },
     "metadata": {},
     "output_type": "display_data"
    },
    {
     "name": "stdout",
     "output_type": "stream",
     "text": [
      "1499.776 188\n",
      "1500 (513, 188)\n"
     ]
    }
   ],
   "source": [
    "from scipy.io.wavfile import read as wavread\n",
    "from scipy.signal import stft\n",
    "import numpy as np\n",
    "import matplotlib.pyplot as plt\n",
    "from librosa.feature import mfcc\n",
    "import librosa.display\n",
    "from scipy import signal\n",
    "\n",
    "# Load the file and convert to floating point\n",
    "import scipy.io.wavfile\n",
    "fs,s = scipy.io.wavfile.read('FriendsS09E01.wav')\n",
    "s = s.astype( float)\n",
    "print(s.shape,fs)\n",
    "plt.subplot( 2, 1, 1), plt.plot( np.arange( 0, len( s))/fs, s)\n",
    "plt.title( 'Input sound'), plt.xlabel( 'Time (sec)')\n",
    "plt.show()\n",
    "# Get the magnitude spectrogram\n",
    "f, t, S = signal.stft(s,window=signal.get_window('hann',1024),noverlap=768,nperseg = 1024)\n",
    "partition = len(s)/fs\n",
    "slide = int(S.shape[1]//partition+1)\n",
    "k = 0\n",
    "data_slide = []\n",
    "print(partition,slide)\n",
    "while k < partition:\n",
    "    left = k*slide\n",
    "    right = min(S.shape[1]+1,(k+1)*slide)\n",
    "    par = S[:,left:right]\n",
    "    data_slide.append(par)\n",
    "    k += 1\n",
    "print(len(data_slide),data_slide[0].shape)"
   ]
  },
  {
   "cell_type": "code",
   "execution_count": 5,
   "metadata": {},
   "outputs": [
    {
     "data": {
      "text/plain": [
       "((513,),\n",
       " (281209,),\n",
       " (71989248,),\n",
       " 48000,\n",
       " 1499.776,\n",
       " (513, 281209),\n",
       " (607, 513, 188),\n",
       " (607, 9),\n",
       " (607, 1),\n",
       " (887, 513, 188))"
      ]
     },
     "execution_count": 5,
     "metadata": {},
     "output_type": "execute_result"
    }
   ],
   "source": [
    "train = np.asarray(data_slide[0:607])\n",
    "test = np.asarray(data_slide[607:-6])\n",
    "f.shape,t.shape,s.shape,fs,len(s)/fs,S.shape,train.shape,Labels.shape,labels.shape,test.shape"
   ]
  },
  {
   "cell_type": "code",
   "execution_count": 6,
   "metadata": {},
   "outputs": [
    {
     "name": "stderr",
     "output_type": "stream",
     "text": [
      "/Users/xiujiayang/anaconda3/lib/python3.6/site-packages/ipykernel_launcher.py:10: ComplexWarning: Casting complex values to real discards the imaginary part\n",
      "  # Remove the CWD from sys.path while we load stuff.\n"
     ]
    },
    {
     "name": "stdout",
     "output_type": "stream",
     "text": [
      "(114116, 513) (114116, 1)\n",
      "completed\n"
     ]
    }
   ],
   "source": [
    "# Take as SVM with stacking\n",
    "from sklearn.svm import SVC\n",
    "from sklearn.model_selection import GridSearchCV\n",
    "\n",
    "train_linear = np.zeros((607*188,513))\n",
    "label_linear = np.zeros((607*188,1))\n",
    "Label_linear = np.zeros((607*188,1))\n",
    "for i in range(train.shape[0]):\n",
    "    for j in range(train.shape[2]):\n",
    "        train_linear[i*j,:] = train[i,:,j]\n",
    "        label_linear[i*j,0] = labels.iloc[i,0]\n",
    "        Label_linear[i*j,0] = Label_linear[i,0]\n",
    "print(train_linear.shape,label_linear.shape)\n",
    "#clf = SVC(gamma='auto')\n",
    "#clf.fit(train_linear, label_linear.ravel())\n",
    "#clf.get_params()\n",
    "print('completed')"
   ]
  },
  {
   "cell_type": "code",
   "execution_count": 19,
   "metadata": {},
   "outputs": [
    {
     "name": "stdout",
     "output_type": "stream",
     "text": [
      "(7323410,)\n",
      "(7136310,)\n",
      "(6377744,)\n",
      "(5531383,)\n",
      "(538, 513, 188) (538, 1)\n"
     ]
    }
   ],
   "source": [
    "# Use sample to generate classifier\n",
    "def get_train(file):\n",
    "    fs,s = scipy.io.wavfile.read(file)\n",
    "    s = s.astype(float)\n",
    "    print(s.shape)\n",
    "    f, t, S = signal.stft(s,window=signal.get_window('hann',1024),noverlap=768,nperseg = 1024)\n",
    "    partition = len(s)/fs\n",
    "    slide = int(S.shape[1]//partition+1)\n",
    "    k = 0\n",
    "    data_slide = []\n",
    "    while k < partition:\n",
    "        left = k*slide\n",
    "        right = min(S.shape[1]+1,(k+1)*slide)\n",
    "        par = S[:,left:right]\n",
    "        data_slide.append(par)\n",
    "        k += 1\n",
    "    i = 1\n",
    "    while data_slide[-i].shape[1] != 188:\n",
    "        i += 1\n",
    "    return data_slide[:-(i+1)]\n",
    "train_j = get_train('J-Final-48k.wav')\n",
    "train_m = get_train('M-Final-48k.wav')\n",
    "train_r = get_train('R-Final-48k.wav')\n",
    "train_s = get_train('S-Final-48k.wav')\n",
    "labels_j = np.ones((len(train_j),1))*4\n",
    "labels_m = np.ones((len(train_m),1))*3\n",
    "labels_r = np.ones((len(train_r),1))\n",
    "labels_s = np.ones((len(train_s),1))*5\n",
    "train_data = train_j+train_m+train_r+train_s\n",
    "train_data = np.asarray(train_data)\n",
    "train_label = np.vstack([labels_j,labels_m,labels_r,labels_s])\n",
    "print(train_data.shape,train_label.shape)"
   ]
  },
  {
   "cell_type": "code",
   "execution_count": 20,
   "metadata": {},
   "outputs": [
    {
     "name": "stderr",
     "output_type": "stream",
     "text": [
      "/Users/xiujiayang/anaconda3/lib/python3.6/site-packages/ipykernel_launcher.py:5: ComplexWarning: Casting complex values to real discards the imaginary part\n",
      "  \"\"\"\n"
     ]
    },
    {
     "name": "stdout",
     "output_type": "stream",
     "text": [
      "(101144, 513) (101144, 1)\n"
     ]
    }
   ],
   "source": [
    "training = np.zeros((train_data.shape[0]*train_data.shape[2],train_data.shape[1]))\n",
    "labeling = np.zeros((train_data.shape[0]*train_data.shape[2],1))\n",
    "for i in range(train_data.shape[0]):\n",
    "    for j in range(train_data.shape[2]):\n",
    "        training[i*j,:] = train_data[i,:,j]\n",
    "        labeling[i*j,0] = labels.iloc[i,0]\n",
    "print(training.shape,labeling.shape)"
   ]
  },
  {
   "cell_type": "code",
   "execution_count": 23,
   "metadata": {},
   "outputs": [
    {
     "name": "stderr",
     "output_type": "stream",
     "text": [
      "/Users/xiujiayang/anaconda3/lib/python3.6/site-packages/sklearn/utils/validation.py:761: DataConversionWarning: A column-vector y was passed when a 1d array was expected. Please change the shape of y to (n_samples, ), for example using ravel().\n",
      "  y = column_or_1d(y, warn=True)\n"
     ]
    },
    {
     "name": "stdout",
     "output_type": "stream",
     "text": [
      "train ready\n",
      "[[84857   121   223    68   269   234   340   115    42]\n",
      " [ 5333    46   125    40   111    71    75    28    27]\n",
      " [ 3713    40    80    30    81    80    57    35    16]\n",
      " [  640     2     9     4    17     4     9     6     3]\n",
      " [ 5322    49   144    49   128   135   108    51    20]\n",
      " [ 3073    24    25    17    36    28    26     9     7]\n",
      " [ 4244    32    61    34    96    48    72    22    18]\n",
      " [ 1003     6    12     4    14    10     7     6     0]\n",
      " [ 2051    13    46    10    48    30    20     3     4]]\n"
     ]
    },
    {
     "name": "stderr",
     "output_type": "stream",
     "text": [
      "/Users/xiujiayang/anaconda3/lib/python3.6/site-packages/sklearn/linear_model/logistic.py:758: ConvergenceWarning: lbfgs failed to converge. Increase the number of iterations.\n",
      "  \"of iterations.\", ConvergenceWarning)\n"
     ]
    }
   ],
   "source": [
    "from sklearn.linear_model import LogisticRegression\n",
    "from sklearn.metrics import confusion_matrix\n",
    "\n",
    "clf = LogisticRegression(solver='lbfgs',multi_class='multinomial').fit(training,labeling)\n",
    "print('train ready')\n",
    "predict = clf.predict(train_linear)\n",
    "confusion_train = confusion_matrix(label_linear,predict)\n",
    "print(confusion_train)"
   ]
  },
  {
   "cell_type": "code",
   "execution_count": null,
   "metadata": {},
   "outputs": [],
   "source": []
  }
 ],
 "metadata": {
  "kernelspec": {
   "display_name": "Python 3",
   "language": "python",
   "name": "python3"
  },
  "language_info": {
   "codemirror_mode": {
    "name": "ipython",
    "version": 3
   },
   "file_extension": ".py",
   "mimetype": "text/x-python",
   "name": "python",
   "nbconvert_exporter": "python",
   "pygments_lexer": "ipython3",
   "version": "3.6.6"
  }
 },
 "nbformat": 4,
 "nbformat_minor": 2
}
