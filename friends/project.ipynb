{
 "cells": [
  {
   "cell_type": "code",
   "execution_count": 1,
   "metadata": {},
   "outputs": [
    {
     "data": {
      "text/plain": [
       "(607, 1)"
      ]
     },
     "execution_count": 1,
     "metadata": {},
     "output_type": "execute_result"
    }
   ],
   "source": [
    "import numpy as np\n",
    "import pandas as pd\n",
    "\n",
    "Data = pd.read_csv('CS598PS_Project_master/friends/labels',sep='\\t',header=None)\n",
    "data = Data.iloc[0:135]\n",
    "#labels1 = np.array(labels.iloc[1::2,0])\n",
    "#labels1 = np.hstack([labels.iloc[0,0],labels1])\n",
    "#print(labels1.shape)\n",
    "#labels2 = pd.get_dummies(labels.iloc[::2,1])\n",
    "#labels2 = np.array(labels2)\n",
    "#print(labels1.shape)\n",
    "#labels = np.zeros((135,9))\n",
    "#labels[:,0] = labels1\n",
    "#labels[:,1:9] = labels2\n",
    "labels = pd.DataFrame(np.zeros((607,1)))\n",
    "for i in range(135):\n",
    "    first = int(data.iloc[i,2])\n",
    "    second = int(data.iloc[i,3])\n",
    "    labels.iloc[first:second,0]=data.iloc[i,1]\n",
    "for i in range(607):\n",
    "    if labels.iloc[i,0] == 'R':\n",
    "        labels.iloc[i,0] = 1\n",
    "    #if labels.iloc[i,0] == 'C':\n",
    "     #   labels.iloc[i,0] = 2\n",
    "    if labels.iloc[i,0] == 'M':\n",
    "        labels.iloc[i,0] = 2\n",
    "    if labels.iloc[i,0] == 'J':\n",
    "        labels.iloc[i,0] = 3\n",
    "    if labels.iloc[i,0] == 'S':\n",
    "        labels.iloc[i,0] = 4\n",
    "    else:\n",
    "        labels.iloc[i,0] = 0\n",
    "    #if labels.iloc[i,0] == 'P':\n",
    "    #    labels.iloc[i,0] = 6\n",
    "    #if labels.iloc[i,0] == 'X':\n",
    "    #    labels.iloc[i,0] = 7\n",
    "    #if labels.iloc[i,0] == 'Z':\n",
    "    #    labels.iloc[i,0] = 8\n",
    "Labels = pd.get_dummies(labels)\n",
    "Labels.shape"
   ]
  },
  {
   "cell_type": "code",
   "execution_count": 2,
   "metadata": {},
   "outputs": [
    {
     "name": "stdout",
     "output_type": "stream",
     "text": [
      "(71989248,) 48000\n"
     ]
    },
    {
     "data": {
      "text/plain": [
       "<Figure size 640x480 with 1 Axes>"
      ]
     },
     "metadata": {},
     "output_type": "display_data"
    },
    {
     "name": "stdout",
     "output_type": "stream",
     "text": [
      "1499.776 188\n",
      "1500 (513, 188)\n"
     ]
    }
   ],
   "source": [
    "from scipy.io.wavfile import read as wavread\n",
    "from scipy.signal import stft\n",
    "import numpy as np\n",
    "import matplotlib.pyplot as plt\n",
    "from librosa.feature import mfcc\n",
    "import librosa.display\n",
    "from scipy import signal\n",
    "\n",
    "# Load the file and convert to floating point\n",
    "import scipy.io.wavfile\n",
    "fs,s = scipy.io.wavfile.read('FriendsS09E01.wav')\n",
    "s = s.astype( float)\n",
    "print(s.shape,fs)\n",
    "plt.subplot( 2, 1, 1), plt.plot( np.arange( 0, len( s))/fs, s)\n",
    "plt.title( 'Input sound'), plt.xlabel( 'Time (sec)')\n",
    "plt.show()\n",
    "# Get the magnitude spectrogram\n",
    "f, t, S = signal.stft(s,window=signal.get_window('hann',1024),noverlap=768,nperseg = 1024)\n",
    "partition = len(s)/fs\n",
    "slide = int(S.shape[1]//partition+1)\n",
    "k = 0\n",
    "data_slide = []\n",
    "print(partition,slide)\n",
    "while k < partition:\n",
    "    left = k*slide\n",
    "    right = min(S.shape[1]+1,(k+1)*slide)\n",
    "    par = S[:,left:right]\n",
    "    data_slide.append(par)\n",
    "    k += 1\n",
    "print(len(data_slide),data_slide[0].shape)"
   ]
  },
  {
   "cell_type": "code",
   "execution_count": 3,
   "metadata": {},
   "outputs": [
    {
     "data": {
      "text/plain": [
       "((513,),\n",
       " (281209,),\n",
       " (71989248,),\n",
       " 48000,\n",
       " 1499.776,\n",
       " (513, 281209),\n",
       " (607, 513, 188),\n",
       " (607, 1),\n",
       " (607, 1),\n",
       " (887, 513, 188))"
      ]
     },
     "execution_count": 3,
     "metadata": {},
     "output_type": "execute_result"
    }
   ],
   "source": [
    "train = np.asarray(data_slide[0:607])\n",
    "test = np.asarray(data_slide[607:-6])\n",
    "f.shape,t.shape,s.shape,fs,len(s)/fs,S.shape,train.shape,Labels.shape,labels.shape,test.shape"
   ]
  },
  {
   "cell_type": "code",
   "execution_count": 4,
   "metadata": {},
   "outputs": [
    {
     "name": "stderr",
     "output_type": "stream",
     "text": [
      "/Users/xiujiayang/anaconda3/lib/python3.6/site-packages/ipykernel_launcher.py:10: ComplexWarning: Casting complex values to real discards the imaginary part\n",
      "  # Remove the CWD from sys.path while we load stuff.\n"
     ]
    },
    {
     "name": "stdout",
     "output_type": "stream",
     "text": [
      "(114116, 513) (114116, 1)\n",
      "completed\n"
     ]
    }
   ],
   "source": [
    "# Take as SVM with stacking\n",
    "from sklearn.svm import SVC\n",
    "from sklearn.model_selection import GridSearchCV\n",
    "\n",
    "train_linear = np.zeros((607*188,513))\n",
    "label_linear = np.zeros((607*188,1))\n",
    "Label_linear = np.zeros((607*188,1))\n",
    "for i in range(train.shape[0]):\n",
    "    for j in range(train.shape[2]):\n",
    "        train_linear[i*188:(i+1)*188,:] = train[i,:,j]\n",
    "    label_linear[i*188:(i+1)*188,0] = np.repeat(labels.iloc[i,0],188).astype(int)\n",
    "    Label_linear[i*188:(i+1)*188,0] = np.repeat(Labels.iloc[i,0],188).astype(int)\n",
    "print(train_linear.shape,label_linear.shape)\n",
    "#clf = SVC(gamma='auto')\n",
    "#clf.fit(train_linear, label_linear.ravel())\n",
    "#clf.get_params()\n",
    "print('completed')"
   ]
  },
  {
   "cell_type": "code",
   "execution_count": 5,
   "metadata": {},
   "outputs": [
    {
     "name": "stdout",
     "output_type": "stream",
     "text": [
      "(7323410,)\n",
      "(7136310,)\n",
      "(6377744,)\n",
      "(5531383,)\n",
      "(638, 513, 188) (638, 1)\n"
     ]
    }
   ],
   "source": [
    "# Use sample to generate classifier\n",
    "def get_train(file):\n",
    "    fs,s = scipy.io.wavfile.read(file)\n",
    "    s = s.astype(float)\n",
    "    print(s.shape)\n",
    "    f, t, S = signal.stft(s,window=signal.get_window('hann',1024),noverlap=768,nperseg = 1024)\n",
    "    partition = len(s)/fs\n",
    "    slide = int(S.shape[1]//partition+1)\n",
    "    k = 0\n",
    "    data_slide = []\n",
    "    while k < partition:\n",
    "        left = k*slide\n",
    "        right = min(S.shape[1]+1,(k+1)*slide)\n",
    "        par = S[:,left:right]\n",
    "        data_slide.append(par)\n",
    "        k += 1\n",
    "    i = 1\n",
    "    while data_slide[-i].shape[1] != 188:\n",
    "        i += 1\n",
    "    return data_slide[:-(i+1)]\n",
    "train_j = get_train('J-Final-48k.wav')\n",
    "train_m = get_train('M-Final-48k.wav')\n",
    "train_r = get_train('R-Final-48k.wav')\n",
    "train_s = get_train('S-Final-48k.wav')\n",
    "labels_j = np.ones((len(train_j),1))*3\n",
    "labels_m = np.ones((len(train_m),1))*2\n",
    "labels_r = np.ones((len(train_r),1))\n",
    "labels_s = np.ones((len(train_s),1))*4\n",
    "labels_others = np.zeros((100,1))\n",
    "train_data = train_j+train_m+train_r+train_s+data_slide[0:100]\n",
    "train_data = np.asarray(train_data)\n",
    "train_label = np.vstack([labels_j,labels_m,labels_r,labels_s,labels_others])\n",
    "print(train_data.shape,train_label.shape)"
   ]
  },
  {
   "cell_type": "code",
   "execution_count": 6,
   "metadata": {},
   "outputs": [
    {
     "name": "stdout",
     "output_type": "stream",
     "text": [
      "(119944, 513) (119944, 1)\n"
     ]
    },
    {
     "name": "stderr",
     "output_type": "stream",
     "text": [
      "/Users/xiujiayang/anaconda3/lib/python3.6/site-packages/ipykernel_launcher.py:7: ComplexWarning: Casting complex values to real discards the imaginary part\n",
      "  import sys\n"
     ]
    },
    {
     "name": "stdout",
     "output_type": "stream",
     "text": [
      "(119944, 513) [[3.]\n",
      " [3.]\n",
      " [3.]\n",
      " ...\n",
      " [0.]\n",
      " [0.]\n",
      " [0.]]\n"
     ]
    }
   ],
   "source": [
    "training = np.zeros((train_data.shape[0]*train_data.shape[2],train_data.shape[1]))\n",
    "labeling = np.zeros((train_data.shape[0]*train_data.shape[2],1))\n",
    "j = train_data.shape[2]\n",
    "print(training.shape,labeling.shape)\n",
    "for i in range(train_data.shape[0]):\n",
    "    for k in range(train_data.shape[2]):\n",
    "        training[i*j:(i+1)*j,:] = train_data[i,:,k]\n",
    "    labeling[i*j:(i+1)*j,0] = np.repeat(train_label[i,0],j).astype(int)\n",
    "print(training.shape,labeling)"
   ]
  },
  {
   "cell_type": "code",
   "execution_count": 10,
   "metadata": {},
   "outputs": [
    {
     "name": "stderr",
     "output_type": "stream",
     "text": [
      "/Users/xiujiayang/anaconda3/lib/python3.6/site-packages/sklearn/linear_model/logistic.py:758: ConvergenceWarning: lbfgs failed to converge. Increase the number of iterations.\n",
      "  \"of iterations.\", ConvergenceWarning)\n"
     ]
    },
    {
     "name": "stdout",
     "output_type": "stream",
     "text": [
      "{'C': 0.05} 0.2166259590462359\n",
      "train ready\n",
      "(114116, 5)\n"
     ]
    },
    {
     "name": "stderr",
     "output_type": "stream",
     "text": [
      "/Users/xiujiayang/anaconda3/lib/python3.6/site-packages/sklearn/linear_model/logistic.py:758: ConvergenceWarning: lbfgs failed to converge. Increase the number of iterations.\n",
      "  \"of iterations.\", ConvergenceWarning)\n"
     ]
    }
   ],
   "source": [
    "from sklearn.linear_model import LogisticRegression\n",
    "from sklearn.metrics import confusion_matrix,accuracy_score\n",
    "from sklearn.multiclass import OneVsOneClassifier\n",
    "import mpu.ml\n",
    "\n",
    "labeling = labeling.astype(int).reshape(-1)\n",
    "param_test1 = {\n",
    "    'C':[0.01,0.05,0.1,0.5,1,5]\n",
    "}\n",
    "gsearch1 = GridSearchCV(estimator=LogisticRegression(solver='lbfgs',multi_class='multinomial'),\n",
    "                        param_grid=param_test1,\n",
    "                        scoring='f1_micro',\n",
    "                        n_jobs=4,\n",
    "                        iid=False,\n",
    "                        cv=5)\n",
    "gsearch1.fit(training, labeling)\n",
    "print(gsearch1.best_params_, gsearch1.best_score_) \n",
    "clf = LogisticRegression(solver='lbfgs',multi_class='multinomial',C=0.05).fit(training,labeling)\n",
    "print('train ready')\n",
    "predict = clf.predict_proba(train_linear)\n",
    "print(predict.shape)"
   ]
  },
  {
   "cell_type": "code",
   "execution_count": 16,
   "metadata": {},
   "outputs": [
    {
     "name": "stdout",
     "output_type": "stream",
     "text": [
      "slide: 188 114116\n",
      "(607,)\n",
      "0.30477759472817134\n"
     ]
    }
   ],
   "source": [
    "i = 0\n",
    "slides = 188\n",
    "predictions = np.array([], ).reshape(0,5)\n",
    "print('slide:',slides,train_linear.shape[0])\n",
    "\n",
    "while i*slides < train_linear.shape[0]:\n",
    "    right = min((i+1)*slides,train_linear.shape[0])\n",
    "    value = np.mean(predict[i*slides:right],axis=0,keepdims=1)\n",
    "    predictions = np.vstack([predictions,value])\n",
    "    i += 1\n",
    "predictions = np.argmax(predictions,axis=1)\n",
    "print(predictions.shape)\n",
    "acc = accuracy_score(labels,predictions)\n",
    "print(acc)"
   ]
  },
  {
   "cell_type": "code",
   "execution_count": null,
   "metadata": {},
   "outputs": [],
   "source": []
  },
  {
   "cell_type": "code",
   "execution_count": null,
   "metadata": {},
   "outputs": [],
   "source": []
  }
 ],
 "metadata": {
  "kernelspec": {
   "display_name": "Python 3",
   "language": "python",
   "name": "python3"
  },
  "language_info": {
   "codemirror_mode": {
    "name": "ipython",
    "version": 3
   },
   "file_extension": ".py",
   "mimetype": "text/x-python",
   "name": "python",
   "nbconvert_exporter": "python",
   "pygments_lexer": "ipython3",
   "version": "3.6.6"
  }
 },
 "nbformat": 4,
 "nbformat_minor": 2
}
